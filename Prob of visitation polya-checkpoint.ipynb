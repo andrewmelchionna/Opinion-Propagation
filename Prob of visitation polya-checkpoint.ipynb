{
 "cells": [
  {
   "cell_type": "code",
   "execution_count": 54,
   "id": "c12c94a7",
   "metadata": {},
   "outputs": [
    {
     "data": {
      "text/plain": [
       "<matplotlib.collections.PathCollection at 0x18f2dac6160>"
      ]
     },
     "execution_count": 54,
     "metadata": {},
     "output_type": "execute_result"
    },
    {
     "data": {
      "image/png": "[encoded data removed]",
      "text/plain": [
       "<Figure size 432x288 with 1 Axes>"
      ]
     },
     "metadata": {
      "needs_background": "light"
     },
     "output_type": "display_data"
    }
   ],
   "source": [
    "import math\n",
    "import matplotlib.pyplot as plt\n",
    "import numpy as np\n",
    "from numpy import *\n",
    "import pylab\n",
    "\n",
    "newballsadded = 500\n",
    "r = [2,1]\n",
    "\n",
    "g = [[1]]\n",
    "for i in range(newballsadded):\n",
    "    layer = []\n",
    "    x = 1\n",
    "    y = i + 2\n",
    "    for j in range(i+2):\n",
    "        if x == 1:\n",
    "            layer.append(g[i][0]*(r[1]*(y-1))/(r[0]+(r[1]*(y-1))))\n",
    "        elif y == 1:\n",
    "            layer.append(g[i][i]*(r[0]*(x-1))/(r[0]*(x-1) + r[1]))\n",
    "        else:\n",
    "            layer.append(g[i][j-1]*(x-1)*r[0]/((x-1)*r[0] + y*r[1]) + g[i][j]*(y-1)*r[1]/(x*r[0] + (y-1)*r[1]))\n",
    "        x += 1\n",
    "        y -= 1\n",
    "    g.append(layer)\n",
    "\n",
    "xlist = []\n",
    "ylist = []\n",
    "windowsize = 0.005\n",
    "lowbound = (1-windowsize)*g[size(g)-1][size(g[size(g)-1])-1]\n",
    "highbound = (1+windowsize)*g[size(g)-1][size(g[size(g)-1])-1]\n",
    "for i in range(size(g)):\n",
    "    for j in range(size(g[i])):\n",
    "        if lowbound < g[i][j] and g[i][j] < highbound:\n",
    "            xlist.append(xycoords(i,j)[0])\n",
    "            ylist.append(xycoords(i,j)[1])\n",
    "\n",
    "plt.scatter(xlist, ylist) \n",
    "#print(g[size(g)-1][size(g[size(g)-1])-1])\n",
    "#plt.plot(g[size(g)-1],'b')\n",
    "\n",
    "    \n",
    "        \n",
    "    "
   ]
  },
  {
   "cell_type": "code",
   "execution_count": 33,
   "id": "5113d17b",
   "metadata": {},
   "outputs": [],
   "source": [
    "def xycoords(i,j):\n",
    "    xp = i + 2\n",
    "    x = j + 1\n",
    "    y = xp - x\n",
    "    return x,y"
   ]
  },
  {
   "cell_type": "code",
   "execution_count": 35,
   "id": "b42d848d",
   "metadata": {},
   "outputs": [],
   "source": [
    "def ijcoords(x,y):\n",
    "    i = x + y - 2\n",
    "    j = x - 1\n",
    "    return i,j"
   ]
  },
  {
   "cell_type": "code",
   "execution_count": null,
   "id": "f850cf3f",
   "metadata": {},
   "outputs": [],
   "source": []
  }
 ],
 "metadata": {
  "kernelspec": {
   "display_name": "Python 3 (ipykernel)",
   "language": "python",
   "name": "python3"
  },
  "language_info": {
   "codemirror_mode": {
    "name": "ipython",
    "version": 3
   },
   "file_extension": ".py",
   "mimetype": "text/x-python",
   "name": "python",
   "nbconvert_exporter": "python",
   "pygments_lexer": "ipython3",
   "version": "3.9.7"
  }
 },
 "nbformat": 4,
 "nbformat_minor": 5
}
